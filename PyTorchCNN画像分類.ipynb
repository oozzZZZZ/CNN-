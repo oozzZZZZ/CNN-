{
  "nbformat": 4,
  "nbformat_minor": 0,
  "metadata": {
    "colab": {
      "name": "PyTorchCNN画像分類.ipynb",
      "provenance": []
    },
    "kernelspec": {
      "name": "python3",
      "display_name": "Python 3"
    },
    "accelerator": "GPU",
    "widgets": {
      "application/vnd.jupyter.widget-state+json": {
        "2ecefa0ae7834334b5bcac51cadfe13c": {
          "model_module": "@jupyter-widgets/controls",
          "model_name": "HBoxModel",
          "state": {
            "_view_name": "HBoxView",
            "_dom_classes": [],
            "_model_name": "HBoxModel",
            "_view_module": "@jupyter-widgets/controls",
            "_model_module_version": "1.5.0",
            "_view_count": null,
            "_view_module_version": "1.5.0",
            "box_style": "",
            "layout": "IPY_MODEL_3b2c2ce58d0247528be20de137224b5a",
            "_model_module": "@jupyter-widgets/controls",
            "children": [
              "IPY_MODEL_650a909986284f2e830d8c10fd89b072",
              "IPY_MODEL_aff15538b58b4462b95d3481fa0d075a"
            ]
          }
        },
        "3b2c2ce58d0247528be20de137224b5a": {
          "model_module": "@jupyter-widgets/base",
          "model_name": "LayoutModel",
          "state": {
            "_view_name": "LayoutView",
            "grid_template_rows": null,
            "right": null,
            "justify_content": null,
            "_view_module": "@jupyter-widgets/base",
            "overflow": null,
            "_model_module_version": "1.2.0",
            "_view_count": null,
            "flex_flow": null,
            "width": null,
            "min_width": null,
            "border": null,
            "align_items": null,
            "bottom": null,
            "_model_module": "@jupyter-widgets/base",
            "top": null,
            "grid_column": null,
            "overflow_y": null,
            "overflow_x": null,
            "grid_auto_flow": null,
            "grid_area": null,
            "grid_template_columns": null,
            "flex": null,
            "_model_name": "LayoutModel",
            "justify_items": null,
            "grid_row": null,
            "max_height": null,
            "align_content": null,
            "visibility": null,
            "align_self": null,
            "height": null,
            "min_height": null,
            "padding": null,
            "grid_auto_rows": null,
            "grid_gap": null,
            "max_width": null,
            "order": null,
            "_view_module_version": "1.2.0",
            "grid_template_areas": null,
            "object_position": null,
            "object_fit": null,
            "grid_auto_columns": null,
            "margin": null,
            "display": null,
            "left": null
          }
        },
        "650a909986284f2e830d8c10fd89b072": {
          "model_module": "@jupyter-widgets/controls",
          "model_name": "FloatProgressModel",
          "state": {
            "_view_name": "ProgressView",
            "style": "IPY_MODEL_5e6ecfd7c2044b08a11b4120c57795bf",
            "_dom_classes": [],
            "description": "",
            "_model_name": "FloatProgressModel",
            "bar_style": "success",
            "max": 1,
            "_view_module": "@jupyter-widgets/controls",
            "_model_module_version": "1.5.0",
            "value": 1,
            "_view_count": null,
            "_view_module_version": "1.5.0",
            "orientation": "horizontal",
            "min": 0,
            "description_tooltip": null,
            "_model_module": "@jupyter-widgets/controls",
            "layout": "IPY_MODEL_b751e4bbe6944545a1639152769b3617"
          }
        },
        "aff15538b58b4462b95d3481fa0d075a": {
          "model_module": "@jupyter-widgets/controls",
          "model_name": "HTMLModel",
          "state": {
            "_view_name": "HTMLView",
            "style": "IPY_MODEL_d84f1b4cf4194f29a5a0b069961f75c3",
            "_dom_classes": [],
            "description": "",
            "_model_name": "HTMLModel",
            "placeholder": "​",
            "_view_module": "@jupyter-widgets/controls",
            "_model_module_version": "1.5.0",
            "value": " 170500096/? [00:08&lt;00:00, 20630755.29it/s]",
            "_view_count": null,
            "_view_module_version": "1.5.0",
            "description_tooltip": null,
            "_model_module": "@jupyter-widgets/controls",
            "layout": "IPY_MODEL_902e9571af3e483b876ea9f2e0e9f511"
          }
        },
        "5e6ecfd7c2044b08a11b4120c57795bf": {
          "model_module": "@jupyter-widgets/controls",
          "model_name": "ProgressStyleModel",
          "state": {
            "_view_name": "StyleView",
            "_model_name": "ProgressStyleModel",
            "description_width": "initial",
            "_view_module": "@jupyter-widgets/base",
            "_model_module_version": "1.5.0",
            "_view_count": null,
            "_view_module_version": "1.2.0",
            "bar_color": null,
            "_model_module": "@jupyter-widgets/controls"
          }
        },
        "b751e4bbe6944545a1639152769b3617": {
          "model_module": "@jupyter-widgets/base",
          "model_name": "LayoutModel",
          "state": {
            "_view_name": "LayoutView",
            "grid_template_rows": null,
            "right": null,
            "justify_content": null,
            "_view_module": "@jupyter-widgets/base",
            "overflow": null,
            "_model_module_version": "1.2.0",
            "_view_count": null,
            "flex_flow": null,
            "width": null,
            "min_width": null,
            "border": null,
            "align_items": null,
            "bottom": null,
            "_model_module": "@jupyter-widgets/base",
            "top": null,
            "grid_column": null,
            "overflow_y": null,
            "overflow_x": null,
            "grid_auto_flow": null,
            "grid_area": null,
            "grid_template_columns": null,
            "flex": null,
            "_model_name": "LayoutModel",
            "justify_items": null,
            "grid_row": null,
            "max_height": null,
            "align_content": null,
            "visibility": null,
            "align_self": null,
            "height": null,
            "min_height": null,
            "padding": null,
            "grid_auto_rows": null,
            "grid_gap": null,
            "max_width": null,
            "order": null,
            "_view_module_version": "1.2.0",
            "grid_template_areas": null,
            "object_position": null,
            "object_fit": null,
            "grid_auto_columns": null,
            "margin": null,
            "display": null,
            "left": null
          }
        },
        "d84f1b4cf4194f29a5a0b069961f75c3": {
          "model_module": "@jupyter-widgets/controls",
          "model_name": "DescriptionStyleModel",
          "state": {
            "_view_name": "StyleView",
            "_model_name": "DescriptionStyleModel",
            "description_width": "",
            "_view_module": "@jupyter-widgets/base",
            "_model_module_version": "1.5.0",
            "_view_count": null,
            "_view_module_version": "1.2.0",
            "_model_module": "@jupyter-widgets/controls"
          }
        },
        "902e9571af3e483b876ea9f2e0e9f511": {
          "model_module": "@jupyter-widgets/base",
          "model_name": "LayoutModel",
          "state": {
            "_view_name": "LayoutView",
            "grid_template_rows": null,
            "right": null,
            "justify_content": null,
            "_view_module": "@jupyter-widgets/base",
            "overflow": null,
            "_model_module_version": "1.2.0",
            "_view_count": null,
            "flex_flow": null,
            "width": null,
            "min_width": null,
            "border": null,
            "align_items": null,
            "bottom": null,
            "_model_module": "@jupyter-widgets/base",
            "top": null,
            "grid_column": null,
            "overflow_y": null,
            "overflow_x": null,
            "grid_auto_flow": null,
            "grid_area": null,
            "grid_template_columns": null,
            "flex": null,
            "_model_name": "LayoutModel",
            "justify_items": null,
            "grid_row": null,
            "max_height": null,
            "align_content": null,
            "visibility": null,
            "align_self": null,
            "height": null,
            "min_height": null,
            "padding": null,
            "grid_auto_rows": null,
            "grid_gap": null,
            "max_width": null,
            "order": null,
            "_view_module_version": "1.2.0",
            "grid_template_areas": null,
            "object_position": null,
            "object_fit": null,
            "grid_auto_columns": null,
            "margin": null,
            "display": null,
            "left": null
          }
        }
      }
    }
  },
  "cells": [
    {
      "cell_type": "code",
      "metadata": {
        "id": "OwK4HhbE78Nf"
      },
      "source": [
        "import torch\n",
        "import torchvision\n",
        "import torchvision.transforms as transforms"
      ],
      "execution_count": null,
      "outputs": []
    },
    {
      "cell_type": "code",
      "metadata": {
        "id": "t30iJ2IoaYIf"
      },
      "source": [
        "device = torch.device('cuda:0' if torch.cuda.is_available() else 'cpu')"
      ],
      "execution_count": null,
      "outputs": []
    },
    {
      "cell_type": "markdown",
      "metadata": {
        "id": "YX3simKn9t1Y"
      },
      "source": [
        "PyTorchには[torchvision](https://pytorch.org/docs/stable/torchvision/index.html)と呼ばれるライブラリが含まれており、機械学習の画像データセットとしてよく使われているImagenet, CIFAR10, MNISTなどが利用できます。\n",
        "今回のチュートリアルではCIFAR10のデータセットを利用します。\n",
        "\n",
        "画像の前処理を行う[TorchVision.transform](https://https://pytorch.org/docs/stable/torchvision/transforms.html)\n",
        "\n",
        "\n",
        "\n",
        "画像の学種の前処理として、ndarryで`Height x Width x Channel`で表現される画像データを`Channel x Height x Width`のTensorデータに変換します。\n",
        "```\n",
        "transform = torchvision.transforms.ToTensor()\n",
        "TensorData = transform(ndarray)\n",
        "```\n",
        "で変換できます。\n",
        "\n",
        "入力画像の正規化を行う`torchvision.transforms.Normalize（mean、std、inplace = False ）`。`inplace`はオプション。チャンネル数だけのmean(平均) std(偏差)をそれぞれ与えることで各チャンネルごとに正規化を行う。\n",
        "\n",
        "最後に、`torchvision.transforms.Compose（変換）`で、これらの前処理をまとめてインスタンスとして構成できます。\n",
        "\n",
        "例\n",
        "```\n",
        ">>> transforms.Compose([\n",
        ">>>     transforms.CenterCrop(10),\n",
        ">>>     transforms.ToTensor(),\n",
        ">>> ])\n",
        "```"
      ]
    },
    {
      "cell_type": "code",
      "metadata": {
        "id": "MuZsWJ-68j4m",
        "outputId": "a37df06d-0fe1-40b5-ca8b-ecec2ccdf1e6",
        "colab": {
          "base_uri": "https://localhost:8080/",
          "height": 100,
          "referenced_widgets": [
            "2ecefa0ae7834334b5bcac51cadfe13c",
            "3b2c2ce58d0247528be20de137224b5a",
            "650a909986284f2e830d8c10fd89b072",
            "aff15538b58b4462b95d3481fa0d075a",
            "5e6ecfd7c2044b08a11b4120c57795bf",
            "b751e4bbe6944545a1639152769b3617",
            "d84f1b4cf4194f29a5a0b069961f75c3",
            "902e9571af3e483b876ea9f2e0e9f511"
          ]
        }
      },
      "source": [
        "transform = transforms.Compose(\n",
        "    [transforms.ToTensor(),\n",
        "     transforms.Normalize((0.5, 0.5, 0.5), (0.5, 0.5, 0.5))])  # Normalize(平均, 偏差)\n",
        "\n",
        "trainset = torchvision.datasets.CIFAR10(root='./data', train=True,\n",
        "                                        download=True, transform=transform)\n",
        "trainloader = torch.utils.data.DataLoader(trainset, batch_size=4,\n",
        "                                          shuffle=True, num_workers=2)\n",
        "\n",
        "testset = torchvision.datasets.CIFAR10(root='./data', train=False,\n",
        "                                       download=True, transform=transform)\n",
        "testloader = torch.utils.data.DataLoader(testset, batch_size=4,\n",
        "                                         shuffle=False, num_workers=2)\n",
        "\n",
        "classes = ('plane', 'car', 'bird', 'cat',\n",
        "           'deer', 'dog', 'frog', 'horse', 'ship', 'truck')"
      ],
      "execution_count": null,
      "outputs": [
        {
          "output_type": "stream",
          "text": [
            "Downloading https://www.cs.toronto.edu/~kriz/cifar-10-python.tar.gz to ./data/cifar-10-python.tar.gz\n"
          ],
          "name": "stdout"
        },
        {
          "output_type": "display_data",
          "data": {
            "application/vnd.jupyter.widget-view+json": {
              "model_id": "2ecefa0ae7834334b5bcac51cadfe13c",
              "version_minor": 0,
              "version_major": 2
            },
            "text/plain": [
              "HBox(children=(FloatProgress(value=1.0, bar_style='info', max=1.0), HTML(value='')))"
            ]
          },
          "metadata": {
            "tags": []
          }
        },
        {
          "output_type": "stream",
          "text": [
            "Extracting ./data/cifar-10-python.tar.gz to ./data\n",
            "Files already downloaded and verified\n"
          ],
          "name": "stdout"
        }
      ]
    },
    {
      "cell_type": "code",
      "metadata": {
        "id": "h8GsQ0RB8vzJ",
        "outputId": "04b03301-7394-4a9a-ad2f-415e4819295f",
        "colab": {
          "base_uri": "https://localhost:8080/",
          "height": 172
        }
      },
      "source": [
        "import matplotlib.pyplot as plt\n",
        "import numpy as np\n",
        "%matplotlib inline\n",
        "\n",
        "def imshow(img):\n",
        "    img = img / 2 + 0.5     \n",
        "    npimg = img.numpy()\n",
        "    plt.imshow(np.transpose(npimg, (1, 2, 0)))\n",
        "    plt.show()\n",
        "\n",
        "\n",
        "# 訓練データをランダムに取得\n",
        "dataiter = iter(trainloader)\n",
        "images, labels = dataiter.next()\n",
        "\n",
        "# 画像の表示\n",
        "imshow(torchvision.utils.make_grid(images))\n",
        "# ラベルの表示\n",
        "print(' '.join('%5s' % classes[labels[j]] for j in range(4)))"
      ],
      "execution_count": null,
      "outputs": [
        {
          "output_type": "stream",
          "text": [
            "\n"
          ],
          "name": "stdout"
        },
        {
          "output_type": "display_data",
          "data": {
            "image/png": "[encoded data removed]",
            "text/plain": [
              "<Figure size 432x288 with 1 Axes>"
            ]
          },
          "metadata": {
            "tags": [],
            "needs_background": "light"
          }
        },
        {
          "output_type": "stream",
          "text": [
            " deer   car  deer   car\n"
          ],
          "name": "stdout"
        }
      ]
    },
    {
      "cell_type": "markdown",
      "metadata": {
        "id": "_21vAsqd_ks5"
      },
      "source": [
        "# CNN\n",
        "データの用意ができたので次に画像認識において有効なニューラルネットワークであるCNN(Convolutional Neural Network)のをpytorch内のライブラリを用いて定義します\n",
        "\n",
        "今回定義したCNNは、\n",
        "入力層 → 畳み込み層 → プーリング層 → 畳み込み層 → プーリング層 →\n",
        "全結合層 → 全結合層 → 全結合層 → 出力層\n",
        "という構成になっています。\n",
        "\n",
        "forward関数内にあるview関数は１つ目の引数に-1を入れることで、２つ目の引数で指定した値にサイズ数を自動的に調整してくれます。"
      ]
    },
    {
      "cell_type": "code",
      "metadata": {
        "id": "mpo6Wa9U9IS2"
      },
      "source": [
        "# ニューラルネットワーク（NN）を構成する際に使用するライブラリ\n",
        "import torch.nn as nn\n",
        "import torch.nn.functional as F\n",
        "\n",
        "\n",
        "class Net(nn.Module):\n",
        "    # NNの各構成要素を定義\n",
        "    def __init__(self):\n",
        "        super(Net, self).__init__()\n",
        "\n",
        "        # 畳み込み層とプーリング層の要素定義\n",
        "        self.conv1 = nn.Conv2d(3, 6, 5)  # (入力, 出力, 畳み込みカーネル（5*5）)\n",
        "        self.pool = nn.MaxPool2d(2, 2)  # (2*2)のプーリングカーネル\n",
        "        self.conv2 = nn.Conv2d(6, 16, 5)\n",
        "        # 全結合層の要素定義\n",
        "        self.fc1 = nn.Linear(16 * 5 * 5, 120)  # (入力, 出力)\n",
        "        self.fc2 = nn.Linear(120, 84)\n",
        "        self.fc3 = nn.Linear(84, 10)  # クラス数が１０なので最終出力数は10\n",
        "\n",
        "    # この順番でNNを構成\n",
        "    def forward(self, x):\n",
        "        x = self.pool(F.relu(self.conv1(x)))  # conv1->relu->pool\n",
        "        x = self.pool(F.relu(self.conv2(x)))  # conv2->relu->pool\n",
        "        x = x.view(-1, 16 * 5 * 5)  # データサイズの変更\n",
        "        x = F.relu(self.fc1(x))  # fc1->relu\n",
        "        x = F.relu(self.fc2(x))  # fc2->relu\n",
        "        x = self.fc3(x)\n",
        "        return x\n",
        "\n",
        "\n",
        "net = Net().to(device) #GPUにインスタンスをキャスト"
      ],
      "execution_count": null,
      "outputs": []
    },
    {
      "cell_type": "markdown",
      "metadata": {
        "id": "t0swpuK4AE6R"
      },
      "source": [
        "# 損失関数とオプティマイザの定義\n",
        "損失関数とオプティマイザは以下の関数で簡単に定義できます。\n",
        "今回は損失関数に交差エントロピーを、オプティマイザにAdamを使用します。学習率は0.001です。"
      ]
    },
    {
      "cell_type": "code",
      "metadata": {
        "id": "rQEFOtZl_pkr"
      },
      "source": [
        "import torch.optim as optim  #オプティマイザ用のライブラリ\n",
        "\n",
        "criterion = nn.CrossEntropyLoss()\n",
        "optimizer = optim.Adam(net.parameters(), lr=0.001)"
      ],
      "execution_count": null,
      "outputs": []
    },
    {
      "cell_type": "code",
      "metadata": {
        "id": "D9xnxqWyALwF",
        "outputId": "aa7e01ff-5ca1-4293-f158-446eb3731eaf",
        "colab": {
          "base_uri": "https://localhost:8080/",
          "height": 1000
        }
      },
      "source": [
        "for epoch in range(50): \n",
        "\n",
        "    running_loss = 0.0\n",
        "    for i, data in enumerate(trainloader, 0):\n",
        "\n",
        "        # 訓練データから入力画像の行列とラベルを取り出す\n",
        "        inputs, labels = data\n",
        "\n",
        "        inputs, labels = inputs.to(device), labels.to(device) #GPUにデータをキャスト\n",
        "\n",
        "        # 勾配パラメータを０にする\n",
        "        optimizer.zero_grad()\n",
        "\n",
        "        # 順伝播 → 逆伝播 → 勾配パラメータの最適化\n",
        "        outputs = net(inputs) #モデルに入れて出力を得る\n",
        "        loss = criterion(outputs, labels)\n",
        "        loss.backward()\n",
        "        optimizer.step()\n",
        "\n",
        "        # 損失関数の変化を2000ミニバッチごとに表示\n",
        "        running_loss += loss.item()\n",
        "        if i % 2000 == 1999:    # print every 2000 mini-batches\n",
        "            print('[%d, %5d] loss: %.3f' %\n",
        "                  (epoch + 1, i + 1, running_loss / 2000))\n",
        "            running_loss = 0.0\n",
        "\n",
        "print('Finished Training')"
      ],
      "execution_count": null,
      "outputs": [
        {
          "output_type": "stream",
          "text": [
            "[1,  2000] loss: 1.868\n",
            "[1,  4000] loss: 1.580\n",
            "[1,  6000] loss: 1.507\n",
            "[1,  8000] loss: 1.477\n",
            "[1, 10000] loss: 1.421\n",
            "[1, 12000] loss: 1.378\n",
            "[2,  2000] loss: 1.298\n",
            "[2,  4000] loss: 1.309\n",
            "[2,  6000] loss: 1.299\n",
            "[2,  8000] loss: 1.277\n",
            "[2, 10000] loss: 1.264\n",
            "[2, 12000] loss: 1.261\n",
            "[3,  2000] loss: 1.188\n",
            "[3,  4000] loss: 1.168\n",
            "[3,  6000] loss: 1.188\n",
            "[3,  8000] loss: 1.194\n",
            "[3, 10000] loss: 1.158\n",
            "[3, 12000] loss: 1.188\n",
            "[4,  2000] loss: 1.107\n",
            "[4,  4000] loss: 1.107\n",
            "[4,  6000] loss: 1.110\n",
            "[4,  8000] loss: 1.107\n",
            "[4, 10000] loss: 1.109\n",
            "[4, 12000] loss: 1.134\n",
            "[5,  2000] loss: 1.047\n",
            "[5,  4000] loss: 1.077\n",
            "[5,  6000] loss: 1.061\n",
            "[5,  8000] loss: 1.074\n",
            "[5, 10000] loss: 1.080\n",
            "[5, 12000] loss: 1.068\n",
            "[6,  2000] loss: 0.998\n",
            "[6,  4000] loss: 1.010\n",
            "[6,  6000] loss: 1.021\n",
            "[6,  8000] loss: 1.035\n",
            "[6, 10000] loss: 1.039\n",
            "[6, 12000] loss: 1.053\n",
            "[7,  2000] loss: 0.961\n",
            "[7,  4000] loss: 0.986\n",
            "[7,  6000] loss: 0.982\n",
            "[7,  8000] loss: 1.014\n",
            "[7, 10000] loss: 1.015\n",
            "[7, 12000] loss: 1.020\n",
            "[8,  2000] loss: 0.950\n",
            "[8,  4000] loss: 0.951\n",
            "[8,  6000] loss: 0.959\n",
            "[8,  8000] loss: 0.980\n",
            "[8, 10000] loss: 0.987\n",
            "[8, 12000] loss: 0.991\n",
            "[9,  2000] loss: 0.934\n",
            "[9,  4000] loss: 0.927\n",
            "[9,  6000] loss: 0.925\n",
            "[9,  8000] loss: 0.951\n",
            "[9, 10000] loss: 0.966\n",
            "[9, 12000] loss: 0.971\n",
            "[10,  2000] loss: 0.878\n",
            "[10,  4000] loss: 0.910\n",
            "[10,  6000] loss: 0.943\n",
            "[10,  8000] loss: 0.921\n",
            "[10, 10000] loss: 0.950\n",
            "[10, 12000] loss: 0.969\n",
            "[11,  2000] loss: 0.881\n",
            "[11,  4000] loss: 0.874\n",
            "[11,  6000] loss: 0.926\n",
            "[11,  8000] loss: 0.919\n",
            "[11, 10000] loss: 0.945\n",
            "[11, 12000] loss: 0.925\n",
            "[12,  2000] loss: 0.865\n",
            "[12,  4000] loss: 0.883\n",
            "[12,  6000] loss: 0.880\n",
            "[12,  8000] loss: 0.892\n",
            "[12, 10000] loss: 0.924\n",
            "[12, 12000] loss: 0.932\n",
            "[13,  2000] loss: 0.855\n",
            "[13,  4000] loss: 0.852\n",
            "[13,  6000] loss: 0.879\n",
            "[13,  8000] loss: 0.903\n",
            "[13, 10000] loss: 0.873\n",
            "[13, 12000] loss: 0.907\n",
            "[14,  2000] loss: 0.851\n",
            "[14,  4000] loss: 0.839\n",
            "[14,  6000] loss: 0.861\n",
            "[14,  8000] loss: 0.863\n",
            "[14, 10000] loss: 0.893\n",
            "[14, 12000] loss: 0.885\n",
            "[15,  2000] loss: 0.815\n",
            "[15,  4000] loss: 0.819\n",
            "[15,  6000] loss: 0.886\n",
            "[15,  8000] loss: 0.835\n",
            "[15, 10000] loss: 0.868\n",
            "[15, 12000] loss: 0.896\n",
            "[16,  2000] loss: 0.816\n",
            "[16,  4000] loss: 0.833\n",
            "[16,  6000] loss: 0.886\n",
            "[16,  8000] loss: 0.857\n",
            "[16, 10000] loss: 0.842\n",
            "[16, 12000] loss: 0.860\n",
            "[17,  2000] loss: 0.774\n",
            "[17,  4000] loss: 0.808\n",
            "[17,  6000] loss: 0.831\n",
            "[17,  8000] loss: 0.835\n",
            "[17, 10000] loss: 0.836\n",
            "[17, 12000] loss: 0.893\n",
            "[18,  2000] loss: 0.776\n",
            "[18,  4000] loss: 0.814\n",
            "[18,  6000] loss: 0.820\n",
            "[18,  8000] loss: 0.847\n",
            "[18, 10000] loss: 0.854\n",
            "[18, 12000] loss: 0.822\n",
            "[19,  2000] loss: 0.784\n",
            "[19,  4000] loss: 0.795\n",
            "[19,  6000] loss: 0.796\n",
            "[19,  8000] loss: 0.824\n",
            "[19, 10000] loss: 0.832\n",
            "[19, 12000] loss: 0.854\n",
            "[20,  2000] loss: 0.759\n",
            "[20,  4000] loss: 0.784\n",
            "[20,  6000] loss: 0.826\n",
            "[20,  8000] loss: 0.813\n",
            "[20, 10000] loss: 0.811\n",
            "[20, 12000] loss: 0.813\n",
            "[21,  2000] loss: 0.727\n",
            "[21,  4000] loss: 0.786\n",
            "[21,  6000] loss: 0.803\n",
            "[21,  8000] loss: 0.795\n",
            "[21, 10000] loss: 0.860\n",
            "[21, 12000] loss: 0.816\n",
            "[22,  2000] loss: 0.735\n",
            "[22,  4000] loss: 0.772\n",
            "[22,  6000] loss: 0.784\n",
            "[22,  8000] loss: 0.789\n",
            "[22, 10000] loss: 0.843\n",
            "[22, 12000] loss: 0.821\n",
            "[23,  2000] loss: 0.729\n",
            "[23,  4000] loss: 0.762\n",
            "[23,  6000] loss: 0.778\n",
            "[23,  8000] loss: 0.802\n",
            "[23, 10000] loss: 0.789\n",
            "[23, 12000] loss: 0.807\n",
            "[24,  2000] loss: 0.718\n",
            "[24,  4000] loss: 0.754\n",
            "[24,  6000] loss: 0.771\n",
            "[24,  8000] loss: 0.814\n",
            "[24, 10000] loss: 0.782\n",
            "[24, 12000] loss: 0.796\n",
            "[25,  2000] loss: 0.714\n",
            "[25,  4000] loss: 0.746\n",
            "[25,  6000] loss: 0.786\n",
            "[25,  8000] loss: 0.789\n",
            "[25, 10000] loss: 0.775\n",
            "[25, 12000] loss: 0.792\n",
            "[26,  2000] loss: 0.716\n",
            "[26,  4000] loss: 0.783\n",
            "[26,  6000] loss: 0.755\n",
            "[26,  8000] loss: 0.750\n",
            "[26, 10000] loss: 0.771\n",
            "[26, 12000] loss: 0.785\n",
            "[27,  2000] loss: 0.726\n",
            "[27,  4000] loss: 0.748\n",
            "[27,  6000] loss: 0.740\n",
            "[27,  8000] loss: 0.786\n",
            "[27, 10000] loss: 0.757\n",
            "[27, 12000] loss: 0.807\n",
            "[28,  2000] loss: 0.708\n",
            "[28,  4000] loss: 0.728\n",
            "[28,  6000] loss: 0.738\n",
            "[28,  8000] loss: 0.793\n",
            "[28, 10000] loss: 0.792\n",
            "[28, 12000] loss: 0.764\n",
            "[29,  2000] loss: 0.687\n",
            "[29,  4000] loss: 0.723\n",
            "[29,  6000] loss: 0.745\n",
            "[29,  8000] loss: 0.782\n",
            "[29, 10000] loss: 0.753\n",
            "[29, 12000] loss: 0.793\n",
            "[30,  2000] loss: 0.707\n",
            "[30,  4000] loss: 0.734\n",
            "[30,  6000] loss: 0.765\n",
            "[30,  8000] loss: 0.706\n",
            "[30, 10000] loss: 0.765\n",
            "[30, 12000] loss: 0.792\n",
            "[31,  2000] loss: 0.670\n",
            "[31,  4000] loss: 0.717\n",
            "[31,  6000] loss: 0.740\n",
            "[31,  8000] loss: 0.793\n",
            "[31, 10000] loss: 0.742\n",
            "[31, 12000] loss: 0.770\n",
            "[32,  2000] loss: 0.653\n",
            "[32,  4000] loss: 0.703\n",
            "[32,  6000] loss: 0.716\n",
            "[32,  8000] loss: 0.751\n",
            "[32, 10000] loss: 0.782\n",
            "[32, 12000] loss: 0.735\n",
            "[33,  2000] loss: 0.702\n",
            "[33,  4000] loss: 0.740\n",
            "[33,  6000] loss: 0.745\n",
            "[33,  8000] loss: 0.730\n",
            "[33, 10000] loss: 0.689\n",
            "[33, 12000] loss: 0.728\n",
            "[34,  2000] loss: 0.673\n",
            "[34,  4000] loss: 0.711\n",
            "[34,  6000] loss: 0.742\n",
            "[34,  8000] loss: 0.747\n",
            "[34, 10000] loss: 0.733\n",
            "[34, 12000] loss: 0.747\n",
            "[35,  2000] loss: 0.681\n",
            "[35,  4000] loss: 0.687\n",
            "[35,  6000] loss: 0.725\n",
            "[35,  8000] loss: 0.714\n",
            "[35, 10000] loss: 0.738\n",
            "[35, 12000] loss: 0.749\n",
            "[36,  2000] loss: 0.659\n",
            "[36,  4000] loss: 0.727\n",
            "[36,  6000] loss: 0.689\n",
            "[36,  8000] loss: 0.767\n",
            "[36, 10000] loss: 0.703\n",
            "[36, 12000] loss: 0.749\n",
            "[37,  2000] loss: 0.675\n",
            "[37,  4000] loss: 0.705\n",
            "[37,  6000] loss: 0.782\n",
            "[37,  8000] loss: 0.742\n",
            "[37, 10000] loss: 0.686\n",
            "[37, 12000] loss: 0.767\n",
            "[38,  2000] loss: 0.668\n",
            "[38,  4000] loss: 0.699\n",
            "[38,  6000] loss: 0.684\n",
            "[38,  8000] loss: 0.725\n",
            "[38, 10000] loss: 0.718\n",
            "[38, 12000] loss: 0.726\n",
            "[39,  2000] loss: 0.679\n",
            "[39,  4000] loss: 0.715\n",
            "[39,  6000] loss: 0.679\n",
            "[39,  8000] loss: 0.767\n",
            "[39, 10000] loss: 0.706\n",
            "[39, 12000] loss: 0.765\n",
            "[40,  2000] loss: 0.675\n",
            "[40,  4000] loss: 0.690\n",
            "[40,  6000] loss: 0.684\n",
            "[40,  8000] loss: 0.745\n",
            "[40, 10000] loss: 0.691\n",
            "[40, 12000] loss: 0.786\n",
            "[41,  2000] loss: 0.669\n",
            "[41,  4000] loss: 0.679\n",
            "[41,  6000] loss: 0.684\n",
            "[41,  8000] loss: 0.692\n",
            "[41, 10000] loss: 0.745\n",
            "[41, 12000] loss: 0.718\n",
            "[42,  2000] loss: 0.671\n",
            "[42,  4000] loss: 0.660\n",
            "[42,  6000] loss: 0.680\n",
            "[42,  8000] loss: 0.720\n",
            "[42, 10000] loss: 0.709\n",
            "[42, 12000] loss: 0.752\n",
            "[43,  2000] loss: 0.631\n",
            "[43,  4000] loss: 0.686\n",
            "[43,  6000] loss: 0.667\n",
            "[43,  8000] loss: 0.695\n",
            "[43, 10000] loss: 0.749\n",
            "[43, 12000] loss: 0.710\n",
            "[44,  2000] loss: 0.602\n",
            "[44,  4000] loss: 0.703\n",
            "[44,  6000] loss: 0.678\n",
            "[44,  8000] loss: 0.752\n",
            "[44, 10000] loss: 0.760\n",
            "[44, 12000] loss: 0.780\n",
            "[45,  2000] loss: 0.592\n",
            "[45,  4000] loss: 0.670\n",
            "[45,  6000] loss: 0.708\n",
            "[45,  8000] loss: 0.682\n",
            "[45, 10000] loss: 0.707\n",
            "[45, 12000] loss: 0.730\n",
            "[46,  2000] loss: 0.618\n",
            "[46,  4000] loss: 0.652\n",
            "[46,  6000] loss: 0.686\n",
            "[46,  8000] loss: 0.688\n",
            "[46, 10000] loss: 0.708\n",
            "[46, 12000] loss: 0.694\n",
            "[47,  2000] loss: 0.623\n",
            "[47,  4000] loss: 0.703\n",
            "[47,  6000] loss: 0.643\n",
            "[47,  8000] loss: 0.667\n",
            "[47, 10000] loss: 0.721\n",
            "[47, 12000] loss: 0.690\n",
            "[48,  2000] loss: 0.600\n",
            "[48,  4000] loss: 0.676\n",
            "[48,  6000] loss: 0.719\n",
            "[48,  8000] loss: 0.685\n",
            "[48, 10000] loss: 0.655\n",
            "[48, 12000] loss: 0.702\n",
            "[49,  2000] loss: 0.619\n",
            "[49,  4000] loss: 0.643\n",
            "[49,  6000] loss: 0.675\n",
            "[49,  8000] loss: 0.666\n",
            "[49, 10000] loss: 0.704\n",
            "[49, 12000] loss: 0.723\n",
            "[50,  2000] loss: 0.627\n",
            "[50,  4000] loss: 0.618\n",
            "[50,  6000] loss: 0.650\n",
            "[50,  8000] loss: 0.702\n",
            "[50, 10000] loss: 0.711\n",
            "[50, 12000] loss: 0.716\n",
            "Finished Training\n"
          ],
          "name": "stdout"
        }
      ]
    },
    {
      "cell_type": "markdown",
      "metadata": {
        "id": "nTR_HO-hAWXj"
      },
      "source": [
        "# テストデータによるネットワークのテスト\n",
        "ランダムに取り出したテストデータの画像とラベルを試しに表示させてみます。"
      ]
    },
    {
      "cell_type": "code",
      "metadata": {
        "id": "CXUjnev1ARoB",
        "outputId": "8e0b64e7-1448-4839-dc7c-d16ec3c152ed",
        "colab": {
          "base_uri": "https://localhost:8080/",
          "height": 155
        }
      },
      "source": [
        "# 訓練データをランダムに取得\n",
        "dataiter = iter(testloader)\n",
        "images, labels = dataiter.next()\n",
        "\n",
        "# 画像の表示\n",
        "imshow(torchvision.utils.make_grid(images))\n",
        "# ラベルの表示\n",
        "print('GroundTruth: ', ' '.join('%5s' % classes[labels[j]] for j in range(4)))"
      ],
      "execution_count": null,
      "outputs": [
        {
          "output_type": "display_data",
          "data": {
            "image/png": "[encoded data removed]",
            "text/plain": [
              "<Figure size 432x288 with 1 Axes>"
            ]
          },
          "metadata": {
            "tags": [],
            "needs_background": "light"
          }
        },
        {
          "output_type": "stream",
          "text": [
            "GroundTruth:    cat  ship  ship plane\n"
          ],
          "name": "stdout"
        }
      ]
    },
    {
      "cell_type": "code",
      "metadata": {
        "id": "6aYJNKd0AdTX",
        "outputId": "cd36679b-1f18-4350-ce3d-d4802186a0d9",
        "colab": {
          "base_uri": "https://localhost:8080/",
          "height": 34
        }
      },
      "source": [
        "# 予測\n",
        "images = images.to(device) #GPUにデータをキャスト\n",
        "outputs = net(images) # 訓練後のNNに画像を入力\n",
        "_, predicted = torch.max(outputs, 1) #入力した画像の行列の最大値（もっとも確率の高いもの）を返す\n",
        "\n",
        "print('Predicted: ', ' '.join('%5s' % classes[predicted[j]]\n",
        "                              for j in range(4)))"
      ],
      "execution_count": null,
      "outputs": [
        {
          "output_type": "stream",
          "text": [
            "Predicted:    cat  ship plane plane\n"
          ],
          "name": "stdout"
        }
      ]
    },
    {
      "cell_type": "code",
      "metadata": {
        "id": "J3hIFTBEAkyb",
        "outputId": "a1537221-734b-4b60-b652-ee9503c1c155",
        "colab": {
          "base_uri": "https://localhost:8080/",
          "height": 34
        }
      },
      "source": [
        "correct = 0\n",
        "total = 0\n",
        "with torch.no_grad():\n",
        "    for data in testloader:\n",
        "        images, labels = data\n",
        "        images, labels = images.to(device), labels.to(device)\n",
        "        outputs = net(images)\n",
        "        _, predicted = torch.max(outputs.data, 1)\n",
        "        total += labels.size(0)\n",
        "        correct += (predicted == labels).sum().item()\n",
        "\n",
        "print('Accuracy of the network on the 10000 test images: %d %%' % (\n",
        "    100 * correct / total))"
      ],
      "execution_count": null,
      "outputs": [
        {
          "output_type": "stream",
          "text": [
            "Accuracy of the network on the 10000 test images: 60 %\n"
          ],
          "name": "stdout"
        }
      ]
    },
    {
      "cell_type": "markdown",
      "metadata": {
        "id": "C6QLzyUQAv_o"
      },
      "source": [
        "ラベルごとの予測"
      ]
    },
    {
      "cell_type": "code",
      "metadata": {
        "id": "DbsT_pkGAr2X",
        "outputId": "3cfc22ed-a899-4390-826b-1fa79c2c9ce0",
        "colab": {
          "base_uri": "https://localhost:8080/",
          "height": 187
        }
      },
      "source": [
        "class_correct = list(0. for i in range(10))\n",
        "class_total = list(0. for i in range(10))\n",
        "with torch.no_grad():\n",
        "    for data in testloader:\n",
        "        images, labels = data\n",
        "        images, labels = images.to(device), labels.to(device)\n",
        "        outputs = net(images)\n",
        "        _, predicted = torch.max(outputs, 1)\n",
        "        c = (predicted == labels).squeeze()\n",
        "        for i in range(4):\n",
        "            label = labels[i]\n",
        "            class_correct[label] += c[i].item()\n",
        "            class_total[label] += 1\n",
        "\n",
        "\n",
        "for i in range(10):\n",
        "    print('Accuracy of %5s : %2d %%' % (\n",
        "        classes[i], 100 * class_correct[i] / class_total[i]))"
      ],
      "execution_count": null,
      "outputs": [
        {
          "output_type": "stream",
          "text": [
            "Accuracy of plane : 61 %\n",
            "Accuracy of   car : 70 %\n",
            "Accuracy of  bird : 52 %\n",
            "Accuracy of   cat : 27 %\n",
            "Accuracy of  deer : 51 %\n",
            "Accuracy of   dog : 55 %\n",
            "Accuracy of  frog : 70 %\n",
            "Accuracy of horse : 70 %\n",
            "Accuracy of  ship : 70 %\n",
            "Accuracy of truck : 74 %\n"
          ],
          "name": "stdout"
        }
      ]
    },
    {
      "cell_type": "markdown",
      "metadata": {
        "id": "XyLf2dDuY4dy"
      },
      "source": [
        "```\n",
        "Accuracy of plane : 53 %\n",
        "Accuracy of   car : 62 %\n",
        "Accuracy of  bird : 41 %\n",
        "Accuracy of   cat : 45 %\n",
        "Accuracy of  deer : 46 %\n",
        "Accuracy of   dog : 50 %\n",
        "Accuracy of  frog : 66 %\n",
        "Accuracy of horse : 69 %\n",
        "Accuracy of  ship : 78 %\n",
        "Accuracy of truck : 76 %\n",
        "```"
      ]
    }
  ]
}